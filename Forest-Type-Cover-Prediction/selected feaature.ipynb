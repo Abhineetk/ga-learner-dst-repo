{
 "cells": [
  {
   "cell_type": "code",
   "execution_count": 1,
   "metadata": {},
   "outputs": [],
   "source": [
    "import pandas as pd\n",
    "import numpy as np\n",
    "\n",
    "import matplotlib.pyplot as plt\n",
    "import seaborn as sns\n",
    "pd.set_option('display.max_columns',None)\n",
    "#import lightgbm as lgb\n",
    "\n",
    "from sklearn.preprocessing import LabelEncoder\n",
    "from sklearn.linear_model import LogisticRegression\n",
    "from sklearn.tree import DecisionTreeClassifier\n",
    "from sklearn.ensemble import GradientBoostingClassifier ,RandomForestClassifier ,GradientBoostingClassifier\n",
    "#from xgboost import XGBClassifier \n",
    "from sklearn.model_selection import GridSearchCV, RandomizedSearchCV\n",
    "from sklearn.linear_model import Ridge,Lasso\n",
    "from sklearn.metrics import roc_auc_score ,mean_squared_error,accuracy_score,classification_report,roc_curve,confusion_matrix\n",
    "import warnings\n",
    "warnings.filterwarnings('ignore')\n",
    "from scipy.stats.mstats import winsorize\n",
    "from sklearn.feature_selection import RFE\n",
    "from sklearn.model_selection import train_test_split\n",
    "from sklearn.preprocessing import StandardScaler\n",
    "from sklearn.preprocessing import PolynomialFeatures\n"
   ]
  },
  {
   "cell_type": "code",
   "execution_count": 13,
   "metadata": {},
   "outputs": [
    {
     "data": {
      "text/plain": [
       "array([[<matplotlib.axes._subplots.AxesSubplot object at 0x000001FA1D112DC8>]],\n",
       "      dtype=object)"
      ]
     },
     "execution_count": 13,
     "metadata": {},
     "output_type": "execute_result"
    },
    {
     "data": {
      "image/png": "[encoded data removed]",
      "text/plain": [
       "<Figure size 432x288 with 1 Axes>"
      ]
     },
     "metadata": {
      "needs_background": "light"
     },
     "output_type": "display_data"
    }
   ],
   "source": [
    "# Code starts here\n",
    "train= pd.read_csv('train.csv')\n",
    "X = train.drop(['Id'], axis=1)\n",
    "X = X[['Elevation', 'Aspect', 'Slope', 'Horizontal_Distance_To_Hydrology',\n",
    "       'Vertical_Distance_To_Hydrology', 'Horizontal_Distance_To_Roadways',\n",
    "       'Hillshade_9am', 'Hillshade_Noon', 'Hillshade_3pm',\n",
    "       'Horizontal_Distance_To_Fire_Points', 'Wilderness_Area1',\n",
    "       'Wilderness_Area3', 'Wilderness_Area4', 'Soil_Type2', 'Soil_Type3',\n",
    "       'Soil_Type4', 'Soil_Type6', 'Soil_Type10', 'Soil_Type11', 'Soil_Type12',\n",
    "       'Soil_Type13', 'Soil_Type17', 'Soil_Type22', 'Soil_Type23',\n",
    "       'Soil_Type24', 'Soil_Type29', 'Soil_Type30', 'Soil_Type31',\n",
    "       'Soil_Type32', 'Soil_Type33', 'Soil_Type38', 'Soil_Type39',\n",
    "       'Soil_Type40','Cover_Type']]\n",
    "\n",
    "train.isnull().sum()\n",
    "\n",
    "train.describe()\n",
    "X.shape\n",
    "X.head()\n",
    "\n",
    "X.hist(column='Cover_Type', bins=15)"
   ]
  },
  {
   "cell_type": "code",
   "execution_count": 4,
   "metadata": {},
   "outputs": [
    {
     "data": {
      "text/plain": [
       "(6945, 33)"
      ]
     },
     "execution_count": 4,
     "metadata": {},
     "output_type": "execute_result"
    }
   ],
   "source": [
    "X = X[X['Horizontal_Distance_To_Hydrology']<=700]\n",
    "X = X[X['Vertical_Distance_To_Hydrology']<=180]\n",
    "X = X[X['Horizontal_Distance_To_Roadways']<=3800]\n",
    "X = X[X['Hillshade_9am']>=140]\n",
    "X = X[X['Hillshade_Noon']>=160]\n",
    "X = X[X['Horizontal_Distance_To_Fire_Points']<=3400]\n",
    "\n",
    "XX = X\n",
    "yy = X\n",
    "XX.shape\n",
    "A= XX.drop('Cover_Type',axis=1)\n",
    "a= yy['Cover_Type']\n",
    "\n",
    "A.shape"
   ]
  },
  {
   "cell_type": "code",
   "execution_count": 5,
   "metadata": {
    "scrolled": true
   },
   "outputs": [
    {
     "data": {
      "image/png": "[encoded data removed]",
      "text/plain": [
       "<Figure size 504x360 with 1 Axes>"
      ]
     },
     "metadata": {
      "needs_background": "light"
     },
     "output_type": "display_data"
    },
    {
     "data": {
      "text/plain": [
       "(6945, 34)"
      ]
     },
     "execution_count": 5,
     "metadata": {},
     "output_type": "execute_result"
    }
   ],
   "source": [
    "plt.figure(figsize=(7,5))\n",
    "plt.boxplot(XX['Hillshade_9am'],showmeans=True)\n",
    "plt.show()\n",
    "XX.shape"
   ]
  },
  {
   "cell_type": "markdown",
   "metadata": {},
   "source": [
    "#tuned_parameters = {'estimator__C': [0.1, 1, 10, 100, 1000]}  #parameters used for one vs rest classifier used with gridsearchCV\n",
    "\n",
    "\n",
    "#model=OneVsRestClassifier(SVC())\n",
    "#loggrid = GridSearchCV(model, tuned_parameters)\n",
    "\n",
    "some important tips on how to select best feature and their names:\n",
    "from sklearn.feature_selection import RFE    \n",
    "\n",
    "rf = RandomForestClassifier(random_state=43)   \n",
    "\n",
    "rfe = RFE(estimator=rf, n_features_to_select=5, step=1)\n",
    "rfe = rfe.fit(X_train, y_train)\n",
    "print('Chosen best 5 feature by rfe:',X_train.columns[rfe.support_])\n",
    "\n",
    "from sklearn.feature_selection import RFECV\n",
    "\n",
    "#The \"accuracy\" scoring is proportional to the number of correct classifications\n",
    "\n",
    "rfecv = RFECV(estimator=rf, step=1, cv=5,scoring='accuracy')   #5-fold cross-validation\n",
    "\n",
    "rfecv = rfecv.fit(X_train, y_train)\n",
    "\n",
    "print('Optimal number of features :', rfecv.n_features_)\n",
    "print('Best features :', X_train.columns[rfecv.support_])\n"
   ]
  },
  {
   "cell_type": "code",
   "execution_count": 6,
   "metadata": {},
   "outputs": [
    {
     "data": {
      "text/plain": [
       "0.8466522678185745"
      ]
     },
     "execution_count": 6,
     "metadata": {},
     "output_type": "execute_result"
    }
   ],
   "source": [
    "from sklearn.multiclass import OneVsRestClassifier\n",
    "from sklearn.svm import SVC\n",
    "from sklearn.preprocessing import MinMaxScaler\n",
    "\n",
    "tuned_parameters = {'min_samples_leaf': range(1, 5, 2),\n",
    "              'max_features': range(1, 6, 2),\n",
    "              'n_estimators': range(50, 250, 50)\n",
    "    \n",
    "}\n",
    "X_train,X_test,y_train,y_test=train_test_split(A,a ,test_size=0.2,random_state=9)\n",
    "scaler = StandardScaler()\n",
    "X_train_scaled=scaler.fit_transform(X_train)\n",
    "X_test_scaled= scaler.transform(X_test)\n",
    "\n",
    "model = RandomForestClassifier(n_estimators=100, random_state=17, n_jobs=4)\n",
    "loggrid = GridSearchCV(model, tuned_parameters)\n",
    "\n",
    "loggrid.fit(X_train_scaled,y_train)\n",
    "pre = loggrid.predict(X_test_scaled)\n",
    "accuracy_score(pre, y_test)"
   ]
  },
  {
   "cell_type": "code",
   "execution_count": 27,
   "metadata": {},
   "outputs": [
    {
     "name": "stdout",
     "output_type": "stream",
     "text": [
      "              precision    recall  f1-score   support\n",
      "\n",
      "           1       0.77      0.66      0.71       148\n",
      "           2       0.82      0.69      0.75       167\n",
      "           3       0.82      0.77      0.79       213\n",
      "           4       0.90      0.97      0.93       242\n",
      "           5       0.87      0.95      0.91       212\n",
      "           6       0.82      0.84      0.83       227\n",
      "           7       0.88      0.96      0.92       180\n",
      "\n",
      "    accuracy                           0.85      1389\n",
      "   macro avg       0.84      0.83      0.83      1389\n",
      "weighted avg       0.84      0.85      0.84      1389\n",
      "\n"
     ]
    },
    {
     "data": {
      "text/plain": [
       "array([[ 98,  23,   0,   0,   0,   0,   7],\n",
       "       [ 19, 116,   0,   0,   2,   4,   0],\n",
       "       [  0,   7, 163,   4,   4,  21,   0],\n",
       "       [  0,   0,  18, 234,   0,   8,   0],\n",
       "       [  6,  19,   2,   0, 201,   3,   0],\n",
       "       [  1,   2,  30,   4,   5, 191,   0],\n",
       "       [ 24,   0,   0,   0,   0,   0, 173]], dtype=int64)"
      ]
     },
     "execution_count": 27,
     "metadata": {},
     "output_type": "execute_result"
    },
    {
     "data": {
      "image/png": "[encoded data removed]",
      "text/plain": [
       "<Figure size 432x288 with 2 Axes>"
      ]
     },
     "metadata": {
      "needs_background": "light"
     },
     "output_type": "display_data"
    }
   ],
   "source": [
    "cm = confusion_matrix(pre, y_test, labels=[1,2,3,4,5,6,7])\n",
    "cm\n",
    "sns.heatmap(cm,annot=True,fmt=\"d\")\n",
    "\n",
    "print(classification_report(y_test, pre))\n",
    "cm"
   ]
  },
  {
   "cell_type": "code",
   "execution_count": 32,
   "metadata": {},
   "outputs": [
    {
     "data": {
      "text/plain": [
       "<matplotlib.axes._subplots.AxesSubplot at 0x1fa24f8d288>"
      ]
     },
     "execution_count": 32,
     "metadata": {},
     "output_type": "execute_result"
    },
    {
     "data": {
      "image/png": "[encoded data removed]",
      "text/plain": [
       "<Figure size 432x288 with 2 Axes>"
      ]
     },
     "metadata": {
      "needs_background": "light"
     },
     "output_type": "display_data"
    }
   ],
   "source": [
    "# y_true = [2, 0, 2, 2, 0, 1]\n",
    "# y_pred = [0, 0, 2, 2, 0, 2]\n",
    "\n",
    "y_true = [\"cat\", \"ant\", \"cat\", \"cat\", \"ant\", \"bird\"]\n",
    "y_pred = [\"ant\", \"ant\", \"cat\", \"cat\", \"ant\", \"cat\"]\n",
    "cm= confusion_matrix(y_true, y_pred, labels=[\"ant\", \"bird\", \"cat\"])\n",
    "sns.heatmap(cm,annot=True,fmt=\"d\")\n",
    "# array([[2, 0, 0],\n",
    "#        [0, 0, 1],\n",
    "#        [1, 0, 2]])"
   ]
  }
 ],
 "metadata": {
  "kernelspec": {
   "display_name": "Python 3",
   "language": "python",
   "name": "python3"
  },
  "language_info": {
   "codemirror_mode": {
    "name": "ipython",
    "version": 3
   },
   "file_extension": ".py",
   "mimetype": "text/x-python",
   "name": "python",
   "nbconvert_exporter": "python",
   "pygments_lexer": "ipython3",
   "version": "3.7.4"
  }
 },
 "nbformat": 4,
 "nbformat_minor": 2
}
